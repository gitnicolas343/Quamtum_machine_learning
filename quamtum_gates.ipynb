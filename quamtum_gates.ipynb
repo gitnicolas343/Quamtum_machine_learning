{
  "nbformat": 4,
  "nbformat_minor": 0,
  "metadata": {
    "colab": {
      "provenance": [],
      "authorship_tag": "ABX9TyN6Nt3+nMMzU+m8nviQc5H9",
      "include_colab_link": true
    },
    "kernelspec": {
      "name": "python3",
      "display_name": "Python 3"
    },
    "language_info": {
      "name": "python"
    }
  },
  "cells": [
    {
      "cell_type": "markdown",
      "metadata": {
        "id": "view-in-github",
        "colab_type": "text"
      },
      "source": [
        "<a href=\"https://colab.research.google.com/github/gitnicolas343/Quamtum_machine_learning/blob/main/quamtum_gates.ipynb\" target=\"_parent\"><img src=\"https://colab.research.google.com/assets/colab-badge.svg\" alt=\"Open In Colab\"/></a>"
      ]
    },
    {
      "cell_type": "code",
      "source": [
        "!pip install Qiskit --quiet\n",
        "!pip install pylatexenc --quiet\n",
        "from pylatexenc.latex2text import LatexNodes2Text\n",
        "from qiskit import QuantumCircuit\n",
        "from qiskit.circuit.library import XGate, HGate, MCXGate, CXGate\n",
        "from qiskit import QuantumCircuit\n",
        "from qiskit.visualization import plot_bloch_vector\n",
        "from qiskit.quantum_info import Statevector\n",
        "import matplotlib.pyplot as plt\n"
      ],
      "metadata": {
        "id": "adCww1yop-k6"
      },
      "execution_count": 38,
      "outputs": []
    },
    {
      "cell_type": "markdown",
      "source": [
        "# Sistemas cuánticos cerrados y transformaciones unitarias\n",
        "\n",
        "---\n",
        "\n",
        "En el estudio de la computación cuántica, es fundamental comprender cómo evoluciona el estado de un qubit cuando se encuentra en un sistema cerrado, es decir, aislado de cualquier interacción con el entorno externo, como un aparato de medición. Esta evolución está regida por principios físicos que imponen ciertas restricciones: debe ser lineal y reversible.\n",
        "\n",
        "La linealidad, aunque puede parecer una simplificación sorprendente, ha sido confirmada repetidamente por la experimentación. Por otro lado, la reversibilidad se relaciona directamente con la conservación de la información: un sistema cerrado no puede destruir información sin la intervención de un agente externo. Según el principio de Landauer, borrar un bit de información requiere una cantidad mínima de energía proporcional a la temperatura del entorno. Por ello, si el sistema permanece cerrado, no puede haber pérdida de información ni entrada de energía, lo que implica que todas sus transformaciones deben ser reversibles.\n",
        "\n",
        "el unico estado determinista que transforma un bit clasico (Cbit)  en otro Cbit es la operacion NOT y se define por la asignacion logica:\n",
        "\n",
        "$$0 \\mapsto \\bar{0} = 1$$  \n",
        "$$ 1 \\mapsto \\bar{1} = 0$$\n",
        "\n",
        "donde la notación con barra indica negación lógica. La operación NOT puede resumirse como:\n",
        "$$\n",
        "x \\mapsto \\bar{x} = x \\oplus 1,\n",
        "$$\n",
        "donde $\\oplus$ denota la suma módulo 2 (XOR).\n",
        "\n",
        "La matriz Pauli-X se define como:\n",
        "\n",
        "$$\n",
        "X = \\begin{pmatrix}0 & 1 \\\\1 & 0\\end{pmatrix}\n",
        "$$\n",
        "\n",
        "Esta matriz intercambia los estados básicos $|0\\rangle$, $|1\\rangle$ , veamos:\n",
        "\n",
        "\n",
        "$$\n",
        "|0\\rangle = \\begin{pmatrix} 1 \\\\ 0 \\end{pmatrix}, \\quad\n",
        "|1\\rangle = \\begin{pmatrix} 0 \\\\ 1 \\end{pmatrix}\n",
        "$$\n",
        "\n",
        "Entonces:\n",
        "\n",
        "$$\n",
        "X|0\\rangle = \\begin{pmatrix}0 & 1 \\\\1 & 0\\end{pmatrix}\\begin{pmatrix}1 \\\\0\\end{pmatrix}=\\begin{pmatrix}0 \\\\1\\end{pmatrix}= |1\\rangle\n",
        "$$\n",
        "\n",
        "$$\n",
        "X|1\\rangle = \\begin{pmatrix}0 & 1 \\\\1 & 0\\end{pmatrix}\\begin{pmatrix}0 \\\\1\\end{pmatrix}=\\begin{pmatrix}1 \\\\0\\end{pmatrix}= |0\\rangle\n",
        "$$\n",
        "\n",
        "El estado del cbit en la salida de una operación NOT está dado por el vector de amplitud one-hot\n",
        "\n",
        "$$\n",
        "X|x\\rangle = |\\bar{x}\\rangle = |x \\oplus 1\\rangle \\tag{1.29}\n",
        "$$\n",
        "\n",
        "El símbolo  $\\oplus$ denota la suma módulo 2 o operación XOR, que devuelve 1 si los bits son diferentes y 0 si son iguales.\n",
        "\n",
        "Así:\n",
        "\n",
        "* Si $ x = 0 $, entonces $ X|0\\rangle = |1\\rangle $\n",
        "* Si $ x = 1 $, entonces $ X|1\\rangle = |0\\rangle $\n",
        "\n",
        "Esto muestra que la compuerta Pauli-X invierte el estado del qubit, de manera análoga a la compuerta NOT clásica, pero en el contexto de una operación lineal reversible y unitaria.\n",
        "\n",
        "#Algunas ropiedades:\n",
        "\n",
        "---\n",
        "1.La propiedad unitaria de la matriz de Pauli-X  cumpe que:\n",
        "\n",
        "$$\n",
        "XX^\\dagger = X^\\dagger X = I\n",
        "$$\n",
        "2.Cualquier transformación reversible sobre un qubit se representa por una matriz unitaria $U$ que cumple:\n",
        "\n",
        "$$\n",
        "UU^\\dagger = UU^\\dagger = I\n",
        "$$\n",
        "\n",
        "Lo cual implica que $U^{-1} = U^\\dagger$ y ademas preserva la norma del vector de estado:\n",
        "\n",
        "$$\n",
        "\\|U|\\psi\\rangle\\|^2 = \\langle \\psi | U^\\dagger U | \\psi \\rangle = \\langle \\psi | \\psi \\rangle = 1\n",
        "$$\n",
        "\n",
        "Esto garantiza que los estados cuánticos transformados sigan siendo válidos (con norma 1).\n",
        "\n",
        "---\n",
        "\n",
        "## *Transformaciones unitarias en sistemas cuánticos*\n",
        "\n",
        "En mecánica cuántica, la evolución de un qubit en un sistema cerrado se describe mediante una transformación unitaria. Esto significa que, si el qubit está inicialmente en el estado $|\\psi\\rangle$, después de aplicarle una matriz unitaria $U$, su nuevo estado es:\n",
        "\n",
        "$$|\\psi'\\rangle = U|\\psi\\rangle\\quad$$\n",
        "\n",
        "Esto refleja dos propiedades fundamentales, Linealidad ya que la operación $U$ es lineal, así que respeta la suma y el producto escalar.Reversibilidad: como $U$ es una matriz unitaria, su inversa es su conjugada transpuesta, $U^{-1} = U^\\dagger$.\n",
        "\n",
        "\n",
        "Dado que $U$ es reversible, se puede recuperar el estado original $|\\psi\\rangle$ aplicando su inversa, es decir:\n",
        "\n",
        "$$\n",
        "|\\psi\\rangle = U^\\dagger |\\psi'\\rangle\n",
        "$$\n",
        "\n",
        "Esto es importante puesto que  en un sistema cerrado, la información cuántica no se pierde por lo que  toda evolución es reversible."
      ],
      "metadata": {
        "id": "F3foeuvhhDXH"
      }
    },
    {
      "cell_type": "code",
      "source": [
        "qc = QuantumCircuit(1,1)\n",
        "qc.x(0)\n",
        "qc.x(0)\n",
        "qc.measure(0,0)\n",
        "qc.draw(\"mpl\")\n"
      ],
      "metadata": {
        "colab": {
          "base_uri": "https://localhost:8080/",
          "height": 191
        },
        "id": "xYKVMFdBqAfL",
        "outputId": "dd6dfd8d-b4f9-4222-910f-4c09e0494e64"
      },
      "execution_count": 36,
      "outputs": [
        {
          "output_type": "execute_result",
          "data": {
            "text/plain": [
              "<Figure size 269.064x200.667 with 1 Axes>"
            ],
            "image/png": "[encoded data removed]"
          },
          "metadata": {},
          "execution_count": 36
        }
      ]
    }
  ]
}