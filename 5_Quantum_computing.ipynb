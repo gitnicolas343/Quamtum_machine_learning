{
  "nbformat": 4,
  "nbformat_minor": 0,
  "metadata": {
    "colab": {
      "provenance": [],
      "authorship_tag": "ABX9TyO4ws6V8krGVy+7kVxASysk",
      "include_colab_link": true
    },
    "kernelspec": {
      "name": "python3",
      "display_name": "Python 3"
    },
    "language_info": {
      "name": "python"
    }
  },
  "cells": [
    {
      "cell_type": "markdown",
      "metadata": {
        "id": "view-in-github",
        "colab_type": "text"
      },
      "source": [
        "<a href=\"https://colab.research.google.com/github/gitnicolas343/Quamtum_machine_learning/blob/main/5_Quantum_computing.ipynb\" target=\"_parent\"><img src=\"https://colab.research.google.com/assets/colab-badge.svg\" alt=\"Open In Colab\"/></a>"
      ]
    },
    {
      "cell_type": "code",
      "source": [
        "!pip install -U qiskit-aer pylatexenc matplotlib qiskit[visualization] > /dev/null"
      ],
      "metadata": {
        "id": "vK_CLPl_ubS1"
      },
      "execution_count": 81,
      "outputs": []
    },
    {
      "cell_type": "code",
      "source": [
        "from qiskit import QuantumCircuit\n",
        "from qiskit_aer import AerSimulator\n",
        "from qiskit.quantum_info import Statevector, partial_trace\n",
        "from qiskit.visualization import plot_histogram\n",
        "import matplotlib.pyplot as plt\n",
        "from IPython.display import display, Markdown\n",
        "from qiskit import transpile"
      ],
      "metadata": {
        "id": "OVIcVThewisj"
      },
      "execution_count": 82,
      "outputs": []
    },
    {
      "cell_type": "markdown",
      "source": [
        "#Computación cuantica basada en compuertas.\n",
        "\n",
        "---\n",
        "\n",
        "El modelo de computación cuántica que hemos estudiado basado en compuertas representa el diseño estándar para algoritmos cuánticos por lo que un algoritmo cuántico se expresa mediante un **circuito cuántico**, compuesto por una secuencia de **compuertas unitarias reversibles** y **mediciones irreversibles** aplicadas a un registro de **qubits** representados como una línea en el circuito, mientras que los bits clásicos (output) se muestran con líneas dobles.\n",
        "\n",
        "![image.png](data:image/png;base64,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)\n",
        "\n",
        "como se ilustra en la figura  se  involucra una serie de compuertas aplicadas a uno o dos qubits, donde el resultado clásico de una medición puede **controlar** una operación posterior, como una compuerta $X$ o la identidad $I$, dependiendo del valor del cbit. Sin embargo, como las mediciones son irreversibles, este tipo de control difiere de las compuertas cuánticas controladas tradicionales, que sí son reversibles. A pesar de ello, gracias al **principio de medición diferida**, es posible reestructurar el circuito para posponer las mediciones al final, sustituyendo las operaciones dependientes de mediciones por compuertas controladas.\n",
        "\n",
        "El resultado final de un algoritmo cuántico puede obtenerse de dos maneras:\n",
        "\n",
        "1. **Computación cuántica probabilística**: Se mide el circuito una sola vez, produciendo una salida aleatoria debido a la naturaleza probabilística de la mecánica cuántica. Esto implementa una forma de computación estocástica.\n",
        "\n",
        "2. **Computación cuántica determinista**: Se ejecuta el circuito múltiples veces y se calcula un promedio de las mediciones. Esto permite estimar valores esperados de observables, concepto fundamental en tareas como la simulación de sistemas físicos.\n",
        "\n",
        "Este modelo permite aprovechar propiedades únicas de la información cuántica, como el **paralelismo cuántico**, haciendo posible el desarrollo de algoritmos más eficientes que sus equivalentes clásicos.\n"
      ],
      "metadata": {
        "id": "8Igni48RNVVo"
      }
    },
    {
      "cell_type": "markdown",
      "source": [
        "Una vez presentado el modelo  de computación cuántica basado en compuertas, odemos introducir un bloque fundamental para la construcción de algoritmos cuánticos: el operador de desplazamiento controlado (controlled shift operator). Esta compuerta cuántica resulta útil para  evaluar funciones binarias, es decir, funciones que asignan un valor de salida clásico (0 o 1) a cada entrada binaria; por otro lado, facilita la implementación de una memoria de acceso aleatorio cuántica (quantum RAM),lo cual es esencial para el almacenamiento y recuperación eficiente de información cuántica."
      ],
      "metadata": {
        "id": "VoFg6_F0SANV"
      }
    },
    {
      "cell_type": "markdown",
      "source": [
        "# Operador de Shift\n",
        "\n",
        "\n",
        "---\n",
        "\n",
        "\n",
        "El **operador de desplazamiento** $X^{\\otimes a}$  dentro del modelo de computación basado en compuertas en la  cual  dado un registro de $m$ qubits y una cadena binaria $a = a_0, a_1, \\dots, a_{m-1} \\in \\{0,1\\}^m$, este operador aplica de forma individual la compuerta identidad $I$ o la compuerta de Pauli-X $X$ sobre cada qubit $k \\in \\{0,1,\\dots,m-1\\}$, dependiendo del valor del bit $a_k$. La definición  del operador es:\n",
        "\n",
        "$$\n",
        "X^{\\otimes a} = X^{a_0} \\otimes X^{a_1} \\otimes \\cdots \\otimes X^{a_{m-1}},\n",
        "$$\n",
        "\n",
        "\n",
        "En cuyo caso es un  **string de Pauli**, ya que consiste en productos tensoriales secuenciales de los  operadores $I$ y $X$ sobre cada qubit individuale.\n",
        "\n",
        "Por ejemplo, si se tienen $m = 2$ qubits y un string de control $a = 01$, entonces:\n",
        "\n",
        "$$\n",
        "X^{\\otimes 01} = I \\otimes X,\n",
        "$$\n",
        "\n",
        "lo cual significa que se aplica $I$ al primer qubit y $X$ al segundo.\n",
        "\n",
        "El operador recibe el nombre de \"operador de desplazamiento\" ya que computacional realiza un cambio de base mediante una operación de tipo **XOR**. Sea $y = y_0, y_1, \\dots, y_{m-1} \\in \\{0,1\\}^m$ un string binario, el resultado de aplicar el operador $X^{\\otimes a}$ sobre un estado base $|y\\rangle$ es:\n",
        "\n",
        "$$\n",
        "X^{\\otimes a} |y\\rangle = |y \\oplus a\\rangle,\n",
        "$$\n",
        "\n",
        "donde $y \\oplus a$ es la operación bit a bit XOR entre los strings $y$ y $a$, es decir:\n",
        "\n",
        "$$\n",
        "y \\oplus a = (y_0 \\oplus a_0, y_1 \\oplus a_1, \\dots, y_{m-1} \\oplus a_{m-1}).\n",
        "$$\n",
        "\n",
        "Puede escribirse en forma matricial, usando proyectores sobre la base computacional:\n",
        "\n",
        "$$\n",
        "X^{\\otimes a} = \\sum_{y=0}^{2^m - 1} |y \\oplus a\\rangle \\langle y|.\n",
        "$$\n",
        "\n",
        "Por ejemplo, con $a = 01$, el operador se representa como:\n",
        "\n",
        "$$\n",
        "X^{\\otimes 01} = |01\\rangle \\langle00| + |00\\rangle \\langle01| + |11\\rangle \\langle10| + |10\\rangle \\langle11|,\n",
        "$$\n",
        "\n",
        "\n",
        "\n",
        "Ahora consideremos un sistema uncantico;  un primer subconjunto con $n$ qubits  y un segundo con $m$ qubits, veamos el efecto de la aplicacion del operador $X^{\\otimes a}$ al segundo subconjunto lo cual equivale a la aplicacion $I \\otimes X^{\\otimes a}$ esta acción se puede describir por medio de la siguiente transformación unitaria:\n",
        "\n",
        "$$\n",
        "(I \\otimes X^{\\otimes a})\\,|x, y\\rangle = |x, y \\oplus a\\rangle \\tag{4.7}\n",
        "$$\n",
        "\n",
        "Aquí, $|x\\rangle$ representa el estado del subconjunto de control con $n$ qubits, $|y\\rangle$ representa el estado del subconjunto objetivo con $m$ qubits, y la operación $\\oplus$ indica la operacion XOR entre los vectores binarios $y$ y $a$,.La forma matricial de esta operación unitaria se puede escribir como:\n",
        "\n",
        "$$\n",
        "I \\otimes X^{\\otimes a} = \\sum_{x=0}^{2^n - 1} \\sum_{y=0}^{2^m - 1} |x, y \\oplus a\\rangle \\langle x, y| \\tag{4.8}\n",
        "$$\n",
        "\n",
        "Ahora  consideremos una **función binaria** $f$, que toma como entrada una cadena de $n$ bits  y devuelve una cadena de $m$ bits. Esta función se denota como:\n",
        "\n",
        "$$\n",
        "f(x) = \\big(f_0(x), \\dots, f_{m-1}(x)\\big) \\in \\{0, 1\\}^m \\tag{4.9}\n",
        "$$\n",
        "\n",
        "Basándose en esta función $f$, podemos definir el **operador de desplazamiento controlado**, que depende del valor del registro de control $|x\\rangle$. Su forma general es:\n",
        "\n",
        "$$\n",
        "CX^{\\otimes f} = \\sum_{x=0}^{2^n - 1} |x\\rangle \\langle x| \\otimes \\left( X^{f_0(x)} \\otimes \\cdots \\otimes X^{f_{m-1}(x)} \\right) \\tag{4.10}\n",
        "$$\n",
        "\n",
        "Lo cual se interpreta como una operación que, en cada rama computacional en la que el registro de control se encuentra en el estado $|x\\rangle$, aplica al segundo subconjunto de qubits  el operador de desplazamiento $X^{\\otimes f(x)}$\n",
        "\n",
        "Este operador, a diferencia de las compuertas controladas simples como la CNOT, puede aplicar diferentes operaciones en cada rama del registro de control, lo que le da una mayor flexibilidad y lo convierte en una herramienta fundamental tanto para calcular funciones binarias.\n",
        "\n",
        "Además, el operador $CX^{\\otimes f}$ es una generalización de la compuerta CNOT. Si se toma un caso más simple, con un solo qubit de control y uno de objetivo es decir, $n = m = 1$  y se define $f(x) = x$, entonces se recupera exactamente la acción de la CNOT, donde el operador $X$ se aplica al qubit objetivo si y solo si el qubit de control está en el estado $|1\\rangle$.\n",
        "\n",
        "---\n",
        "\n",
        "### **Cómputo de una Función Binaria**\n",
        "\n",
        "Ahora usaremos el **operador de desplazamiento controlado** $CX^{ \\otimes f}$ para evaluar la función binaria $f(\\cdot)$. Como se anticipó en la Sección 2.6.6, los **circuitos cuánticos** pueden usarse para implementar **funciones binarias reversibles** cuando las entradas están restringidas a vectores en la **base computacional**.\n",
        "\n",
        "En tanto, mostraremos aquí que el operador controlado $CX \\otimes f$ implementa la función $f(\\cdot)$ de manera reversible sobre la base computacional.\n",
        "\n",
        "\n",
        "Primero observamos que el operador unitario $CX \\otimes f$ **transforma** cualquier vector $|x, y\\rangle$ de la base computacional en:\n",
        "\n",
        "$$\n",
        "CX^{ \\otimes f }\\; |x, y\\rangle = |x, y \\oplus f(x)\\rangle\n",
        "$$\n",
        "\n",
        "El operador también se puede escribir como:\n",
        "\n",
        "$$\n",
        "CX \\otimes f =\\sum_{x=0}^{2^n - 1}\\sum_{y=0}^{2^m - 1}|x, y \\oplus f(x)\\rangle \\langle x, y|\n",
        "$$\n",
        "\n",
        "Esto significa que cada entrada $|x, y\\rangle$ se transforma en $|x, y \\oplus f(x)\\rangle$ es **reversible**, para cualquier función binaria $f$.\n",
        "\n",
        "![image.png](data:image/png;base64,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)\n",
        "\n",
        "Después de aplicar $CX \\otimes f$, el resultado es el estado:\n",
        "\n",
        "$$\n",
        "|x\\rangle \\otimes |f(x)\\rangle\n",
        "$$\n",
        "\n",
        "Al medir el segundo registro (los $m$ qubits de salida), se obtiene la cadena binaria $f(x)$ con probabilidad 1.\n",
        "\n",
        "\n",
        "### Ejemplo\n",
        "\n",
        "**Caso con $m = n = 2$** y una función:\n",
        "\n",
        "$$\n",
        "f(x) = x\n",
        "$$\n",
        "\n",
        "Entonces, se aplica el operador $CX \\otimes f$ con:\n",
        "\n",
        "\n",
        "\n",
        "\n",
        "$$\n",
        "|x\\rangle \\otimes |y\\rangle \\mapsto |x\\rangle \\otimes |y \\oplus x\\rangle\n",
        "$$\n",
        "\n",
        "Si por ejemplo:\n",
        "\n",
        "* $|x\\rangle = |01\\rangle$\n",
        "* $|y\\rangle = |10\\rangle$\n",
        "\n",
        "Entonces el resultado es:\n",
        "estado incial:\n",
        "$$\n",
        "|x\\rangle \\otimes |y\\rangle =|01\\rangle \\otimes |10 \\rangle   = \\begin{bmatrix} 0 \\\\ 1 \\\\ 0 \\\\ 0 \\end{bmatrix}\\otimes \\begin{bmatrix} 0 \\\\ 0 \\\\ 1 \\\\ 0 \\end{bmatrix}\n",
        "$$   \n",
        "\n",
        "estado final:\n",
        "\n",
        "$$|01\\rangle \\otimes |10 \\oplus 01\\rangle = |01\\rangle \\otimes |11\\rangle = \\begin{bmatrix} 0 \\\\ 0 \\\\ 1 \\\\ 0 \\end{bmatrix}\\otimes \\begin{bmatrix} 0 \\\\ 0 \\\\ 0 \\\\ 1 \\end{bmatrix} $$   \n",
        "\n",
        "\n"
      ],
      "metadata": {
        "id": "aluxtRsDWus9"
      }
    },
    {
      "cell_type": "code",
      "source": [
        "#preparamos |x> y |y> directamente con Statevector.from_label\n",
        "state_x = Statevector.from_label('01')   # |x>  = |01>\n",
        "state_y = Statevector.from_label('10')   # |y>  = |10>\n",
        "\n",
        "#Estado total = |x> ⊗ |y>\n",
        "\n",
        "state_initial = state_x.tensor(state_y)\n",
        "print(\"Estado inicial:\", state_initial)\n",
        "\n",
        "#de 4 qubits (sin puertas X)\n",
        "qc = QuantumCircuit(4)\n",
        "\n",
        "\n",
        "qc.cx(2,0)\n",
        "qc.cx(3, 1)\n",
        "\n",
        "#Evolucionamos el estado inicial con el circuito\n",
        "state_final = state_initial.evolve(qc)\n",
        "print(\"Estado final  :\", state_final)\n",
        "\n",
        "\n",
        "qc.draw('mpl')"
      ],
      "metadata": {
        "colab": {
          "base_uri": "https://localhost:8080/",
          "height": 393
        },
        "id": "ZDsE29-Ru2uV",
        "outputId": "f66699cb-3684-42d2-c1af-994a6a4d0bd3"
      },
      "execution_count": 83,
      "outputs": [
        {
          "output_type": "stream",
          "name": "stdout",
          "text": [
            "Estado inicial: Statevector([0.+0.j, 0.+0.j, 0.+0.j, 0.+0.j, 0.+0.j, 0.+0.j, 1.+0.j, 0.+0.j, 0.+0.j, 0.+0.j, 0.+0.j, 0.+0.j, 0.+0.j, 0.+0.j, 0.+0.j, 0.+0.j],\n",
            "            dims=(2, 2, 2, 2))\n",
            "Estado final  : Statevector([0.+0.j, 0.+0.j, 0.+0.j, 0.+0.j, 0.+0.j, 0.+0.j, 0.+0.j, 1.+0.j, 0.+0.j, 0.+0.j, 0.+0.j, 0.+0.j, 0.+0.j, 0.+0.j, 0.+0.j, 0.+0.j],\n",
            "            dims=(2, 2, 2, 2))\n"
          ]
        },
        {
          "output_type": "execute_result",
          "data": {
            "text/plain": [
              "<Figure size 287.496x367.889 with 1 Axes>"
            ],
            "image/png": "[encoded data removed]"
          },
          "metadata": {},
          "execution_count": 83
        }
      ]
    },
    {
      "cell_type": "code",
      "source": [
        "state_final.draw('latex')"
      ],
      "metadata": {
        "colab": {
          "base_uri": "https://localhost:8080/",
          "height": 37
        },
        "id": "UOaCLMvjrQDD",
        "outputId": "fec41a97-95cf-43ba-9735-7648ad017e64"
      },
      "execution_count": 84,
      "outputs": [
        {
          "output_type": "execute_result",
          "data": {
            "text/plain": [
              "<IPython.core.display.Latex object>"
            ],
            "text/latex": "$$ |0111\\rangle$$"
          },
          "metadata": {},
          "execution_count": 84
        }
      ]
    },
    {
      "cell_type": "markdown",
      "source": [
        "# Memoria RAM cuantica:\n",
        "\n",
        "---\n",
        "\n",
        "\n",
        "La **QRAM** es una memoria cuántica que, a diferencia de la RAM clásica, permite consultar múltiples posiciones de una base de datos de forma simultánea gracias al principio de superposición.\n",
        "\n",
        "En un sistema con $n$ qubits de entrada (que codifican el índice) y $m$ qubits de salida (que almacenan los datos), la QRAM aplica una compuerta controlada $CX^ {\\otimes f}$ que actúa de la siguiente forma: si el registro de entrada está en una superposición de índices $\\sum_x \\alpha_x |x\\rangle$ y la salida está inicialmente en $|0\\rangle$, el sistema evoluciona al estado entrelazado:\n",
        "\n",
        "$$\n",
        "\\sum_{x=0}^{2^n - 1} \\alpha_x \\, |x, f(x)\\rangle\n",
        "$$\n",
        "\n",
        "Esto significa que con una sola operación, la QRAM puede codificar todas las respuestas posibles de la base de datos en un solo estado cuántico. Sin embargo, al medir, el sistema colapsa a una única respuesta $|x, f(x)\\rangle$, con probabilidad $|\\alpha_x|^2$, como si se hubiese consultado una dirección aleatoria con probabilidad dada por los coeficientes $\\alpha_x$.\n",
        "\n",
        "Este mecanismo no permite leer toda la base de datos en una sola medición, pero sí habilita algoritmos cuánticos que explotan el **paralelismo cuántico** para procesar simultáneamente múltiples datos antes de medir.\n"
      ],
      "metadata": {
        "id": "X6oPDPJ-DNCN"
      }
    },
    {
      "cell_type": "markdown",
      "source": [
        "#Ejemplo\n",
        "\n",
        "Para la funcion $f(x)$ usamos:\n",
        "\n",
        "* **2 qubits de dirección**: permiten 4 direcciones posibles → 00, 01, 10, 11.\n",
        "* **1 qubit de datos** por simplicidad: puede ser 0 o 1.\n",
        "\n",
        "usamos esta base de datos inventada, para simular los datos y los accesos de los mismos\n",
        "\n",
        "| Dirección (x) | Dato f(x) |\n",
        "| ------------- | --------- |\n",
        "| 00            | 1         |\n",
        "| 01            | 0         |\n",
        "| 10            | 1         |\n",
        "| 11            | 0         |\n",
        "\n",
        "---\n",
        "\n",
        "\n",
        "\n",
        "Preparamos el estado superposición de direcciones:\n",
        "\n",
        "$$\n",
        "|\\text{dir}\\rangle = \\frac{1}{2}(|00\\rangle + |01\\rangle + |10\\rangle + |11\\rangle)\n",
        "$$\n",
        "\n",
        "y el dato en estado base:\n",
        "\n",
        "$$\n",
        "|0\\rangle\n",
        "$$\n",
        "\n",
        "Estado total inicial:\n",
        "\n",
        "$$\n",
        "|\\psi_0\\rangle = \\frac{1}{2}(|00\\rangle + |01\\rangle + |10\\rangle + |11\\rangle) \\otimes |0\\rangle\n",
        "$$\n",
        "\n",
        "Es decir:\n",
        "\n",
        "$$\n",
        "|\\psi_0\\rangle = \\frac{1}{2}(|000\\rangle + |010\\rangle + |100\\rangle + |110\\rangle)\n",
        "$$\n",
        "\n",
        "3 qubits en total: 2 de dirección y 1 de datos, luego aplicamos QRAM la cual actúa como:\n",
        "\n",
        "$$\n",
        "|x\\rangle|0\\rangle \\mapsto |x\\rangle|f(x)\\rangle\n",
        "$$\n",
        "\n",
        "Entonces, aplicamos esta transformación:\n",
        "\n",
        "* |00⟩|0⟩  =   |00⟩|1⟩\n",
        "* |01⟩|0⟩   =  |01⟩|0⟩\n",
        "* |10⟩|0⟩   =  |10⟩|1⟩\n",
        "* |11⟩|0⟩   =  |11⟩|0⟩\n",
        "\n",
        "\n",
        "\n",
        "$$\n",
        "|\\psi_{\\text{QRAM}}\\rangle = \\frac{1}{2}(|001\\rangle + |010\\rangle + |101\\rangle + |110\\rangle)\n",
        "$$\n",
        "\n",
        "\n",
        "Y **todo eso está en superposición**. Si midieras el sistema ahora:\n",
        "\n",
        "* Hay 25% de probabilidad de obtener |001⟩ (dir=00, dato=1),\n",
        "* 25% para |010⟩ (dir=01, dato=0),\n",
        "* etc.\n",
        "\n"
      ],
      "metadata": {
        "id": "pFuJP0dNJtvw"
      }
    },
    {
      "cell_type": "code",
      "source": [
        "\n",
        "\n",
        "qcr = QuantumCircuit(3)\n",
        "\n",
        "\n",
        "#superposición de direcciones\n",
        "qcr.h(0)                 # (|0> + |1>)/√2  en q0\n",
        "qcr.h(1)                 # (|0> + |1>)/√2  en q1\n",
        "\n",
        "#dato base |1>\n",
        "qcr.x(2)                 # pone q2 = |1>\n",
        "\n",
        "#f(x) = NOT(q0)\n",
        "qcr.cx(0, 2)             # si q0 = 1  invierte q2\n",
        "\n",
        "# estado resultante\n",
        "state = Statevector.from_instruction(qcr)\n",
        "print(\"\\nAmplitudes distintas de cero:\")\n",
        "for idx, amp in enumerate(state.data):\n",
        "    if abs(amp) > 1e-6:\n",
        "        print(f\"|{format(idx,'03b')}>  →  {amp}\")\n",
        "qcr.draw('mpl')\n",
        "\n"
      ],
      "metadata": {
        "colab": {
          "base_uri": "https://localhost:8080/",
          "height": 364
        },
        "id": "IEQ6LlhxRlhW",
        "outputId": "00f235f2-02f5-46cb-d376-bd05e55d404f"
      },
      "execution_count": 85,
      "outputs": [
        {
          "output_type": "stream",
          "name": "stdout",
          "text": [
            "\n",
            "Amplitudes distintas de cero:\n",
            "|001>  →  (0.4999999999999999+0j)\n",
            "|011>  →  (0.4999999999999999+0j)\n",
            "|100>  →  (0.4999999999999999+0j)\n",
            "|110>  →  (0.4999999999999999+0j)\n"
          ]
        },
        {
          "output_type": "execute_result",
          "data": {
            "text/plain": [
              "<Figure size 287.496x284.278 with 1 Axes>"
            ],
            "image/png": "[encoded data removed]"
          },
          "metadata": {},
          "execution_count": 85
        }
      ]
    },
    {
      "cell_type": "markdown",
      "source": [
        "#problema de Deutsch y el paralelismo cuántico\n",
        "\n",
        "---\n",
        "\n",
        "El **problema de Deutsch** es el primer ejemplo de un algoritmo cuántico que muestra una ventaja real frente a los algoritmos clásicos, al aprovechar las propiedades de **superposición**, **entrelazamiento** y **paralelismo cuántico**.\n",
        "\n",
        "Planteamos  el  problema  de la siguiente forma, sea una función binaria $\n",
        "f(x) \\in \\{0, 1\\}, \\quad x \\in \\{0, 1\\}$ lo que implica que $f$ toma un bit como entrada y devuelve un bit como salida por lo que Solo existen cuatro posibles funciones de este tipo, dadas por la siguiente tabla:\n",
        "\n",
        "| $x$ | $f_0$(x) | $f_1$(x) | $f_2$(x) | $f_3$(x) |\n",
        "| --- | -------- | -------- | -------- | -------- |\n",
        "| 0   | 0        | 0        | 1        | 1        |\n",
        "| 1   | 0        | 1        | 0        | 1        |\n",
        "\n",
        "Las funciones $f_0$ y $f_3$ son **constantes** mientras que las funciones $f_1$ y $f_2$ son **balanceadas**. El Objetivo es determinar si $f(x)$ es constante o balanceada con la **menor cantidad de consultas posibles**.\n",
        "\n",
        "En la computación clásica, para determinar si $f$ es constante o no, se deben evaluar ambos valores de entrada, $x = 0$ y $x = 1$. Esto requiere dos evaluaciones de la función.Mientras que en la computación cuántica, se puede codificar simultáneamente ambas entradas $x=0$ y $x=1$ en un estado en **superposición**. Esto se logra aplicando una puerta Hadamard $H$ a un qubit inicial en $|0\\rangle$:\n",
        "\n",
        "$$\n",
        "H|0\\rangle = \\frac{1}{\\sqrt{2}}(|0\\rangle + |1\\rangle) = |+\\rangle\n",
        "$$\n",
        "\n",
        "En general, se construye el siguiente estado cuántico compuesto:\n",
        "\n",
        "$$\n",
        "|\\psi\\rangle = \\frac{1}{\\sqrt{2}}(|0\\rangle + |1\\rangle) \\otimes |0\\rangle = |+\\rangle \\otimes |0\\rangle\n",
        "$$\n",
        "\n",
        "La función $f$ se implementa como un **operador unitario** reversible $U_f$ que actúa de la siguiente forma:\n",
        "\n",
        "$$\n",
        "U_f |x\\rangle |y\\rangle = |x\\rangle |y \\oplus f(x)\\rangle\n",
        "$$\n",
        "\n",
        "Esto es una puerta de tipo **CX$_f$** (controlada por $x$, modificando $y$).\n",
        "\n",
        "Aplicando $U_f$ sobre el estado en superposición y un segundo qubit en $|0\\rangle$, se obtiene:\n",
        "\n",
        "$$\n",
        "U_f(|+\\rangle \\otimes |0\\rangle) = \\frac{1}{\\sqrt{2}}(|0\\rangle|f(0)\\rangle + |1\\rangle|f(1)\\rangle) \\tag{4.15}\n",
        "$$\n",
        "\n",
        "Este estado ahora contiene simultáneamente la evaluación de la función en **ambas entradas**. Este es el fenómeno de se denomina  **paralelismo cuántico**.\n",
        "\n",
        "La limitación es que la medición directa no basta. Si se mide directamente este estado, el resultado es uno de los dos posibles pares $|x, f(x)\\rangle$ con probabilidad 1/2. Esto **no** permite determinar si $f$ es constante o balanceada con una sola medición.\n",
        "\n",
        "La solución completa del **algoritmo de Deutsch** modifica el segundo qubit: se lo prepara en el estado $|-\\rangle$, es decir:\n",
        "\n",
        "$$\n",
        "H|1\\rangle = \\frac{1}{\\sqrt{2}}(|0\\rangle - |1\\rangle) = |-\\rangle\n",
        "$$\n",
        "\n",
        "El estado inicial completo es:\n",
        "\n",
        "$$\n",
        "|0\\rangle \\otimes |1\\rangle \\xrightarrow{H \\otimes H} |+\\rangle \\otimes |-\\rangle = \\frac{1}{2}(|0\\rangle + |1\\rangle)(|0\\rangle - |1\\rangle)\n",
        "$$\n",
        "\n",
        "Al aplicar el operador $U_f$, se obtiene un estado con **información de fase**:\n",
        "\n",
        "$$\n",
        "U_f(|+\\rangle \\otimes |-\\rangle) = \\frac{1}{\\sqrt{2}}[(-1)^{f(0)}|0\\rangle + (-1)^{f(1)}|1\\rangle] \\otimes |-\\rangle\n",
        "$$\n",
        "\n",
        "Este fenómeno, llamado **retroceso de fase (phase kick-back)**, transfiere la información de $f(x)$ a la fase del primer qubit.\n",
        "\n",
        "Finalmente, se aplica una puerta Hadamard al primer qubit:\n",
        "\n",
        "* Si $f(0) = f(1)$, el estado es $\\pm |+\\rangle \\rightarrow H \\rightarrow |0\\rangle$\n",
        "* Si $f(0) \\neq f(1)$, el estado es $\\pm |-\\rangle \\rightarrow H \\rightarrow |1\\rangle$\n",
        "\n",
        "Por tanto, **una sola medición del primer qubit** permite distinguir entre funciones constantes y balanceadas.\n",
        "\n",
        "\n"
      ],
      "metadata": {
        "id": "xgLReJcdR87_"
      }
    },
    {
      "cell_type": "code",
      "source": [
        "qcdeutz = QuantumCircuit(2,1 )\n",
        "qcdeutz.x([0,1])\n",
        "qcdeutz.h([0, 1])\n",
        "\n",
        "\n",
        "def oraculoU(f):\n",
        "    qcaux = QuantumCircuit(2,1)\n",
        "    if f == 'f0':  # f(x) = 0 compuerta identidad I\n",
        "        pass\n",
        "    elif f == 'f1':  # f(x) = x  si entra 0  resultado 0  si entra 1 el resultado es uno, tenemos 2 qubit eso es una  CNOT\n",
        "        qcaux.cx(0, 1)\n",
        "\n",
        "    elif f == 'f2':  # f(x) = ¬x entonces invertimos el primero y con CNOT odtenemos el estado de segundo relicando la tabla de verdad\n",
        "         qcaux.x(0)\n",
        "         qcaux.cx(0, 1)\n",
        "         qcaux.x(0)\n",
        "    elif f == 'f3':  # f(x) = 1  aplicar X al qubit 1 (y⊕1 = ¬y)\n",
        "         qcaux.x(1)\n",
        "    return qcaux\n",
        "\n",
        "qcdeutz.compose(oraculoU(\"f2\"),inplace = True )\n",
        "qcdeutz.h(0)\n",
        "qcdeutz.measure(0, 0)\n",
        "qcdeutz.draw('mpl')"
      ],
      "metadata": {
        "colab": {
          "base_uri": "https://localhost:8080/",
          "height": 255
        },
        "id": "PRkJ9shFh7Sk",
        "outputId": "792c9491-84df-48c9-f181-fa4c9a6b675a"
      },
      "execution_count": 87,
      "outputs": [
        {
          "output_type": "execute_result",
          "data": {
            "text/plain": [
              "<Figure size 705.35x284.278 with 1 Axes>"
            ],
            "image/png": "[encoded data removed]"
          },
          "metadata": {},
          "execution_count": 87
        }
      ]
    },
    {
      "cell_type": "code",
      "source": [
        "\n",
        "simulator = AerSimulator()\n",
        "t_qc       = transpile(qcdeutz, simulator)\n",
        "\n",
        "job     = simulator.run(t_qc, shots=1024)\n",
        "result  = job.result()\n",
        "counts  = result.get_counts()\n",
        "\n",
        "print(\"Resultados de la medición:\", counts)\n",
        "\n",
        "\n",
        "if '1' in counts:\n",
        "    display(Markdown(\"**La función es CONSTANTE**\"))\n",
        "else:\n",
        "    display(Markdown(\"**La función es BALANCEADA**\"))\n",
        "\n",
        "plot_histogram(counts)\n",
        "\n"
      ],
      "metadata": {
        "colab": {
          "base_uri": "https://localhost:8080/",
          "height": 535
        },
        "id": "TxQUdCQqqQxq",
        "outputId": "6da6fd95-4da1-4f3f-e0a9-5511af357b24"
      },
      "execution_count": 88,
      "outputs": [
        {
          "output_type": "stream",
          "name": "stdout",
          "text": [
            "Resultados de la medición: {'0': 1024}\n"
          ]
        },
        {
          "output_type": "display_data",
          "data": {
            "text/plain": [
              "<IPython.core.display.Markdown object>"
            ],
            "text/markdown": "**La función es BALANCEADA**"
          },
          "metadata": {}
        },
        {
          "output_type": "execute_result",
          "data": {
            "text/plain": [
              "<Figure size 640x480 with 1 Axes>"
            ],
            "image/png": "[encoded data removed]"
          },
          "metadata": {},
          "execution_count": 88
        }
      ]
    },
    {
      "cell_type": "markdown",
      "source": [
        "#salidas esperadas\n",
        "\n",
        "| Función | Definición | f(0) | f(1) | Clasificación  |\n",
        "| ------- | ---------- | ---- | ---- | -------------- |\n",
        "| f0    | f(x) = 0   | 0    | 0    | **Constante**  |\n",
        "| f1    | f(x) = x   | 0    | 1    | **Balanceada** |\n",
        "| f2    | f(x) = ¬x  | 1    | 0    | **Balanceada** |\n",
        "| f3    | f(x) = 1   | 1    | 1    | **Constante**  |\n"
      ],
      "metadata": {
        "id": "4ACmCiwNwUK6"
      }
    },
    {
      "cell_type": "markdown",
      "source": [
        "\n",
        "###(Phase Kick-Back)\n",
        "\n",
        "---\n",
        "\n",
        "phase kick-back constituye un mecanismo fundamental en el diseño de diversos algoritmos cuánticos, entre ellos el algoritmo de **Deutsch**, **Deutsch-Jozsa**, **estimación de fase cuántica** y el **algoritmo de Shor**.  este efecto permite la transferencia de información desde un qubit controlado hacia el qubit de control, manifestándose como una modificación de la **fase relativa** de este último.Aunque intuitivamente se espera que una compuerta controlada solo afecte al qubit de destino, el retroceso de fase puede alterar también el estado del controlador mas  específicamente su fase.\n",
        "\n",
        "Recordemos la definicion de una compuerta controlada, sea $U$ una compuerta unitaria de un solo qubit. $CU$ controlada, actua sobre dos qubits y se define como:\n",
        "\n",
        "$$\n",
        "CU = |0\\rangle\\langle 0| \\otimes I + |1\\rangle\\langle 1| \\otimes U\n",
        "$$\n",
        "\n",
        "Ahora supongamos que el segundo qubit está preparado en un **autovector** de la compuerta unitaria $U$, es decir:\n",
        "\n",
        "$$\n",
        "U|\\phi\\rangle = e^{i\\theta}|\\phi\\rangle\n",
        "$$\n",
        "\n",
        "además  el primer qubit  se encuentra en una superposición general:\n",
        "\n",
        "$$\n",
        "|\\psi\\rangle = \\alpha_0|0\\rangle + \\alpha_1|1\\rangle\n",
        "$$\n",
        "\n",
        "El estado conjunto inicial del sistema es entonces:\n",
        "\n",
        "$$\n",
        "|\\Psi_{\\text{in}}\\rangle = |\\psi\\rangle \\otimes |\\phi\\rangle = \\alpha_0|0\\rangle|\\phi\\rangle + \\alpha_1|1\\rangle|\\phi\\rangle\n",
        "$$\n",
        "\n",
        "Aplicando la compuerta controlada $CU$:\n",
        "\n",
        "$$\n",
        "CU |\\Psi_{\\text{in}}\\rangle = \\alpha_0|0\\rangle I|\\phi\\rangle + \\alpha_1|1\\rangle U|\\phi\\rangle = \\alpha_0|0\\rangle|\\phi\\rangle + \\alpha_1|1\\rangle e^{i\\theta}|\\phi\\rangle\n",
        "$$\n",
        "\n",
        "Factorizando el segundo qubit:\n",
        "\n",
        "$$\n",
        "CU |\\Psi_{\\text{in}}\\rangle = (\\alpha_0|0\\rangle + \\alpha_1 e^{i\\theta}|1\\rangle) \\otimes |\\phi\\rangle\n",
        "$$\n",
        "\n",
        "Este resultado muestra que, aunque el segundo qubit permanece inalterado (en $|\\phi\\rangle$), el primer qubit ha adquirido una **fase relativa** $e^{i\\theta}$ entre los componentes $|0\\rangle$ y $|1\\rangle$. Esto constituye el **retroceso de fase**, por el cual la información de la fase global del segundo qubit ha sido trasladada al primero.\n",
        "\n",
        "\n",
        "\n",
        "#### Ejemplo\n",
        "\n",
        "Considérese ahora la compuerta $\\text{CNOT} = CX$, donde $X$ es la compuerta de Pauli-X, cuyos autovectores son:\n",
        "\n",
        "$$\n",
        "X|+\\rangle = |+\\rangle, \\quad X|-\\rangle = -|-\\rangle\n",
        "$$\n",
        "\n",
        "Si el qubit destino se encuentra en el estado $|-\\rangle$, con valor propio $-1$, y el qubit de control en $|\\psi\\rangle = \\alpha_0|0\\rangle + \\alpha_1|1\\rangle$, el estado tras aplicar CNOT será:\n",
        "\n",
        "$$\n",
        "CX(|\\psi\\rangle \\otimes |-\\rangle) = \\alpha_0|0\\rangle|-\\rangle - \\alpha_1|1\\rangle|-\\rangle = (\\alpha_0|0\\rangle - \\alpha_1|1\\rangle) \\otimes |-\\rangle\n",
        "$$\n",
        "\n",
        "Nuevamente, el efecto observable es una inversión de fase relativa en el qubit controlador, es decir, un retroceso de fase de $\\pi$ .\n",
        "\n",
        "\n",
        "\n"
      ],
      "metadata": {
        "id": "7x9RVCTszwDQ"
      }
    },
    {
      "cell_type": "markdown",
      "source": [
        "\n",
        "### Validez del algoritmo de Deutsch\n",
        "\n",
        "---\n",
        "\n",
        "El algoritmo de Deutsch resuelve el problema de determinar si una función booleana de un bit de entrada $f$ es **constante** o **balanceada** utilizando una única evaluación cuántica de la función.\n",
        "\n",
        "La validez del algoritmo se fundamenta en  que representa la función como una compuerta cuántica controlada, la función $f$ se implementa como una compuerta cuántica **controlada**, llamada $CX_f$, que actúa de la siguiente forma:\n",
        "\n",
        "   $$\n",
        "   CX_f = |0\\rangle\\!\\langle 0| \\otimes X^{f(0)} + |1\\rangle\\!\\langle 1| \\otimes X^{f(1)},\n",
        "   $$\n",
        "\n",
        "Esta compuerta aplica un cambio en el segundo qubit dependiendo del valor de $f(x)$, y al mismo tiempo introduce una **fase relativa** en el primer qubit si el segundo está preparado en el estado $|-\\rangle$.\n",
        "\n",
        "Se prepara el segundo qubit en el estado $|-\\rangle = \\frac{1}{\\sqrt{2}}(|0\\rangle - |1\\rangle)$, que es **autovector** de las compuertas $X_0$ y $X_1$ con autovalores $(+1)$ y $(-1)$, respectivamente. Esto implica que:\n",
        "\n",
        "   $$\n",
        "   X_{f(x)}|-\\rangle = (-1)^{f(x)}|-\\rangle.\n",
        "   $$\n",
        "\n",
        "Al aplicar $CX^f$ sobre el estado $|-\\rangle|-\\rangle$, el efecto de $f(0)$ y $f(1)$ se codifica en la **fase relativa** del primer qubit:\n",
        "\n",
        "   $$\n",
        "   |\\psi\\rangle = \\frac{1}{\\sqrt{2}}\\left( (-1)^{f(0)}|0\\rangle - (-1)^{f(1)}|1\\rangle \\right)|-\\rangle.\n",
        "   $$\n",
        "\n",
        "Dependiendo de si $f(0) = f(1)$ o $f(0) \\neq f(1)$, este estado resulta proporcional a $|-\\rangle$ si $f$ es **constante** $|+\\rangle$ si $f$ es **no constante**.Luego  se mide el primer qubit en la base diagonal $\\{ |+\\rangle, |-\\rangle \\}$. El resultado de la medición permite determinar de forma determinista si $f$ es constante o no.\n",
        "\n"
      ],
      "metadata": {
        "id": "XLxjtzpu4CAB"
      }
    },
    {
      "cell_type": "markdown",
      "source": [
        "\n",
        "\n",
        "### Teorema de No Clonación y clonación clásica en computación cuántica\n",
        "\n",
        "---\n",
        "\n",
        "El **teorema de no clonación** constituye una de las afirmaciones más fundamentales y distintivas respecto a la computación clásica. Este teorema establece que **no existe un operador unitario** capaz de copiar, de manera exacta y universal, un **estado cuántico **.\n",
        "\n",
        "Supóngamos, por contradicción, que existe un operador unitario $U$ que pueda clonar cualquier estado cuántico $|\\psi\\rangle$. Esto implicaría que para cualquier qubit inicial implicaria y se cumpliría la transformación:\n",
        "\n",
        "$$\n",
        "U \\left( |\\psi\\rangle \\otimes |0\\rangle \\right) = |\\psi\\rangle \\otimes |\\psi\\rangle\n",
        "$$\n",
        "\n",
        "Del mismo modo, si se le presenta otro estado diferente $|\\phi\\rangle$, también se esperaría que:\n",
        "\n",
        "$$\n",
        "U \\left( |\\phi\\rangle \\otimes |0\\rangle \\right) = |\\phi\\rangle \\otimes |\\phi\\rangle\n",
        "$$\n",
        "\n",
        "Ahora bien, debido a la **linealidad**, si consideramos una superposición arbitraria de ambos estados, por ejemplo $|\\chi\\rangle = \\alpha|\\psi\\rangle + \\beta|\\phi\\rangle$, donde $\\alpha$ y $\\beta$ son coeficientes complejos tales que $|\\alpha|^2 + |\\beta|^2 = 1$, entonces el operador unitario debería satisfacer:\n",
        "\n",
        "$$\n",
        "U \\left( |\\chi\\rangle \\otimes |0\\rangle \\right) = \\alpha U(|\\psi\\rangle \\otimes |0\\rangle) + \\beta U(|\\phi\\rangle \\otimes |0\\rangle)\n",
        "= \\alpha |\\psi\\rangle \\otimes |\\psi\\rangle + \\beta |\\phi\\rangle \\otimes |\\phi\\rangle\n",
        "$$\n",
        "\n",
        "pero si realmente pudiera clonarse el estado $|\\chi\\rangle$, el resultado esperado sería:\n",
        "\n",
        "$$\n",
        "|\\chi\\rangle \\otimes |\\chi\\rangle = (\\alpha|\\psi\\rangle + \\beta|\\phi\\rangle) \\otimes (\\alpha|\\psi\\rangle + \\beta|\\phi\\rangle)\n",
        "$$\n",
        "\n",
        "Expandiendo:\n",
        "\n",
        "$$\n",
        "\\alpha^2 |\\psi\\rangle \\otimes |\\psi\\rangle + \\alpha\\beta |\\psi\\rangle \\otimes |\\phi\\rangle + \\beta\\alpha |\\phi\\rangle \\otimes |\\psi\\rangle + \\beta^2 |\\phi\\rangle \\otimes |\\phi\\rangle\n",
        "$$\n",
        "\n",
        "Esta **contradicción** demuestra que tal operador unitario no puede existir si se desea clonar un estado arbitrario, lo que prueba  teorema de no clonación.\n",
        "\n",
        "Este resultado establece que no existe una operación cuántica universal que permita copiar un estado arbitrario e inicialmente desconocido de un sistema cuántico. Las implicaciones de este teorema son profundas y se manifiestan en múltiples niveles de la teoría y la práctica cuántica.\n"
      ],
      "metadata": {
        "id": "eciKjxWw87aR"
      }
    }
  ]
}