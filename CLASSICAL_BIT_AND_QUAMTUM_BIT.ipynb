{
  "nbformat": 4,
  "nbformat_minor": 0,
  "metadata": {
    "colab": {
      "private_outputs": true,
      "provenance": [],
      "authorship_tag": "ABX9TyN5mGpwHPxEJ2id9wUL4QZw",
      "include_colab_link": true
    },
    "kernelspec": {
      "name": "python3",
      "display_name": "Python 3"
    },
    "language_info": {
      "name": "python"
    }
  },
  "cells": [
    {
      "cell_type": "markdown",
      "metadata": {
        "id": "view-in-github",
        "colab_type": "text"
      },
      "source": [
        "<a href=\"https://colab.research.google.com/github/gitnicolas343/Quamtum_machine_learning/blob/main/CLASSICAL_BIT_AND_QUAMTUM_BIT.ipynb\" target=\"_parent\"><img src=\"https://colab.research.google.com/assets/colab-badge.svg\" alt=\"Open In Colab\"/></a>"
      ]
    },
    {
      "cell_type": "markdown",
      "source": [
        "# **RESUMEN:**\n",
        "\n",
        "\n",
        "---\n",
        "\n",
        "\n",
        "Este capítulo introduce el Qubit como la unidad básica de la información y computación cuántica. Comienza revisando los bits clásicos (Cbits) y los Cbits aleatorios, y luego presenta el Qubit como una extensión algebraica del espacio de probabilidad bidimensional de un Cbit aleatorio a un vector complejo y normalizado en dos dimensiones. También se explican las dos formas principales en que un Qubit puede evolucionar: mediante operaciones unitarias (puertas cuánticas) y mediciones. Las puertas cuánticas describen la evolución en un sistema cerrado, mientras que las mediciones convierten la información cuántica en clásica al acoplar el Qubit con un instrumento de medición."
      ],
      "metadata": {
        "id": "xJ7AXzcOneHy"
      }
    },
    {
      "cell_type": "markdown",
      "source": [
        "#1.BIT CLASICO ALETORIO  (RAMDOM  CBIT)\n",
        "---\n",
        "Podemos comenzar recordando qué significa un bit en la computación clásica. Todos hemos escuchado cómo funcionan los lenguajes discretos en las máquinas modernas, y por eso podemos imaginar un bit como un interruptor que solo puede estar en uno de dos estados posibles:\n",
        "\n",
        "* 0 (apagado)\n",
        "\n",
        "* 1 (encendido)\n",
        "\n",
        "Para hacer una analogía, un bit clásico es como una moneda que solo puede mostrar cara o cruz, sin posibilidad de estar en ambos estados a la vez. Es decir, es un sistema que puede estar en dos niveles claramente distinguibles y mutuamente excluyentes, también llamados estados ortogonales.Imagine que está manipulando esta moneda en su mano y puede elegir mostrar cara o cruz; usted sabe de manera determinista cuál es el estado actual para los fines que se requieran y manipular los resultados de cada ensayo  a su antojo.\n",
        "\n",
        "Este comportamiento binario, en el que el estado es perfectamente definido y conocido, es la base fundamental de toda la computación clásica y del procesamiento digital de información.Sin embargo, en muchos sistemas reales y aplicaciones, el estado no siempre es perfectamente definido o seguro. Por ejemplo, debido al ruido en la transmisión de datos, imperfecciones en sensores o incertidumbre inherente a ciertos procesos, no siempre podemos garantizar que el bit esté claramente en 0 o en 1.Es aquí donde surge el concepto de bits probabilísticos, que representan un bit cuyo estado no es determinista, sino que está definido por una distribución de probabilidades entre los estados 0 y 1.\n",
        "\n",
        "Alternativamente un Cbit puede puede describirse como un estado bidimensional  llamado amplitud vectorial \"one hot\", El vector de amplitud one-hot contiene un único dígito \"1\", cuya posición indica el valor que toma el cbit. Específicamente:\n",
        "\n",
        "* Un cbit con valor 0 se codifica mediante un vector one-hot que tiene un \"1\" en la primera posición.\n",
        "\n",
        "* Un cbit con valor 1 se codifica mediante un vector one-hot que tiene un \"1\" en la segunda posición.\n",
        "\n",
        "Así, la posición del \"1\" en el vector representa de forma clara y exclusiva el estado del cbit, se puede escribir en la notacion  de Dirac Bra-ket como se muestra en la tabla adjunta:\n",
        "\n",
        "---\n",
        "\n",
        "![image.png](data:image/png;base64,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)\n",
        "\n",
        "---\n",
        "\n",
        "(tabla 1 :representacion de un digito binario como notacion one-hot paralelo con la notacin de dirac)\n",
        "\n",
        "\n",
        "Es importante introducirnos en el estudio de la computacion cuantica, desde los formalismos matematicos, los cuales para la presente sesion nos limitaremos a las bases de la notacion Braket, importante para entender el paso de una computacion probabilistica Cbit (Clasical bits) a una cuantica  basada en Qbit (Quamtum bits).\n"
      ],
      "metadata": {
        "id": "w-_jm0_qqyf8"
      }
    },
    {
      "cell_type": "markdown",
      "source": [
        "# 2. **NOTACION DE DIRAC**\n",
        "---\n",
        "\n",
        "la notacion de Dirac puede parecer familiar para estudiantes de fisica, pero puede ser un alien para estudiantes de ingeniria o matematicas. Aunque en matematicas un vector puede representarse como   $\\vec{a}$, en la notacion de dirac el simbolo identificador es este vector  $a$  dentro dentro de un 'ket',  $\\ |a\\rangle$ de la siguiente forma:\n",
        "$$\n",
        "|a\\rangle = \\begin{bmatrix} a_1 \\\\ a_2 \\end{bmatrix}\n",
        "$$\n",
        "\n",
        "\n",
        "acorde a la representacion de la tabla 1, la representacion del 'ket' 0 y 1 son las siguientes respectivamente:\n",
        "\n",
        "$$\n",
        "|0\\rangle = \\begin{bmatrix} 1 \\\\ 0 \\end{bmatrix}\n",
        "\\quad\n",
        "|1\\rangle = \\begin{bmatrix} 0 \\\\ 1 \\end{bmatrix}\n",
        "$$\n",
        "\n",
        "la notacion de dirac 'bra' es usada para identificar la fila y se denota de la siguiente forma:\n",
        "$$\n",
        "\\langle a| = \\begin{bmatrix} a_1 & a_2 \\end{bmatrix}\n",
        "$$\n",
        "\n",
        "donde:\n",
        "\n",
        "$$\n",
        "\\langle a| = |a\\rangle^\\dagger\n",
        "$$\n",
        "\n",
        "teniendo en  que $\\dagger$ representa La operacion  hermitica transpuesta o en otras la transpuesta conjugada:\n",
        "\n",
        "$$\n",
        "(.)^\\dagger = ((.)^T)^*\n",
        "$$\n",
        "por ejemplo para el 1 y 0:\n",
        "\n",
        "$$\n",
        "\\langle 0|  = \\begin{bmatrix} 1 & 0 \\end{bmatrix}\n",
        "\\quad\n",
        "\\langle 1 | = \\begin{bmatrix} 0 & 1 \\end{bmatrix}\n",
        "$$\n",
        "\n",
        "estos vectores son en esencia complejos  dimendionalmente finitos, dado que pertenecen a los llamados espacios de Hilbert  y se denotado por $\\mathcal{H}$, aqui los espacios de interes  para computacion cuantica $2^n$  en la notacion de hilbert con $n\\in\\mathbb{Z}^+$.\n",
        "\n",
        "Uno puede preguntarse por qué aprender una notación nueva y aparentemente extraña para los vectores, cuando podríamos simplemente usar la representación en vectores columna.\n",
        "\n",
        "Una razón es que la notación de Dirac suele ahorrar espacio. Especialmente al escribir vectores dispersos (que tienen pocos componentes no nulos), la notación de Dirac es mucho más compacta.\n",
        "\n",
        "Para estados con 2 o 3 qubits, esto no es tan complicado, pero imagine escribir un estado de 8 qubits con vectores columna: tendría $2^8=256$ componentes, lo cual sería bastante engorroso.\n",
        "\n",
        "---\n",
        "#**PRODUCTOS INTERNOS**\n",
        "---\n",
        "\n",
        "En nuestro contexto, un producto interno es una función que toma dos vectores del mismo espacio y devuelve un número complejo. En el contexto de espacios vectoriales complejos, esta operación permite extender la noción del producto punto de los vectores reales, respetando ciertas propiedades algebraicas.\n",
        "Se denota como:\n",
        "\n",
        "Sean $ \\mathbf{v}, \\mathbf{w} \\in \\mathbb{C}^n $, sus componentes son números complejos.  \n",
        "\n",
        "El producto interno complejo se define como:\n",
        "\n",
        "$$\n",
        "\\langle \\mathbf{v}, \\mathbf{w} \\rangle = \\sum_{i=1}^{n} v_i^* w_i\n",
        "$$\n",
        "\n",
        "asi:\n",
        "\n",
        "$$\n",
        "\\begin{bmatrix} v_1 \\\\ v_2\\\\v_3\\\\...\\\\v_n\\end{bmatrix}*\\begin{bmatrix} w_1 \\\\ w_2\\\\w_3\\\\...\\\\w_n\\end{bmatrix} = \\begin{bmatrix}  v_1^* & v_2^*& v_3^*&...&v_n^* \\end{bmatrix}*\\begin{bmatrix}w_1 \\\\ w_2\\\\w_3\\\\...\\\\w_n\\end{bmatrix} = \\sum_{i=1}^{n} v_i^* w_i\n",
        "$$\n",
        "\n",
        "donde $v_i^*$ es el conjugado complejo del componente $v_i$.Esta definición generaliza el producto punto usual al caso complejo y garantiza las siguientes propiedades:\n",
        "\n",
        "---\n",
        "### Propiedades del producto interno complejo\n",
        "---\n",
        "\n",
        "**1. Linealidad en el segundo argumento**\n",
        "\n",
        "Para una combinación lineal de vectores $\\sum_i \\lambda_i w_i$, se cumple:\n",
        "\n",
        "$$\n",
        "\\langle v, \\sum_i \\lambda_i w_i \\rangle = \\sum_i \\lambda_i \\langle v, w_i \\rangle\n",
        "$$\n",
        "\n",
        "---\n",
        "\n",
        "**2. Conjugación simétrica (conjugate-commutativity)**\n",
        "\n",
        "El producto interno conmutado es el conjugado complejo:\n",
        "\n",
        "$$\n",
        "\\langle v, w \\rangle = \\langle w, v \\rangle^*\n",
        "$$\n",
        "\n",
        "---\n",
        "\n",
        "**3. No negatividad**\n",
        "\n",
        "El producto interno de un vector consigo mismo siempre es real y no negativo:\n",
        "\n",
        "$$\n",
        "\\langle v, v \\rangle \\geq 0\n",
        "$$\n",
        "\n",
        "Y se cumple la igualdad si y solo si $v = 0$.\n",
        "\n",
        "\n"
      ],
      "metadata": {
        "id": "LDYmhw54AE5w"
      }
    },
    {
      "cell_type": "code",
      "source": [],
      "metadata": {
        "id": "gZ4fhdVdUFrE"
      },
      "execution_count": null,
      "outputs": []
    }
  ]
}